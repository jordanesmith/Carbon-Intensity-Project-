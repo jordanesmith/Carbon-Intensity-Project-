{
 "cells": [
  {
   "cell_type": "code",
   "execution_count": 1,
   "id": "f16418c1-5542-4197-88b0-544d44cfcbce",
   "metadata": {},
   "outputs": [],
   "source": [
    "import pandas as pd\n",
    "import os"
   ]
  },
  {
   "cell_type": "markdown",
   "id": "df0ec319-1657-4943-a74b-d885e3c52bd4",
   "metadata": {},
   "source": [
    ".csv data is downloaded from https://www.carbonintensity.org.uk/ one month at a time and saved in the folder data/grid_data. "
   ]
  },
  {
   "cell_type": "code",
   "execution_count": 10,
   "id": "532b0f49-b355-45d5-9471-cbac62edb7e9",
   "metadata": {},
   "outputs": [],
   "source": [
    "def generate_csv_all_data():\n",
    "    \n",
    "    \"\"\" \n",
    "    generate a csv with concatenation of all csv data in data/grid/ directory\n",
    "    \n",
    "    \"\"\"\n",
    "    \n",
    "    relative_path_to_grid_data = os.path.join(\"data\",\"grid_data\")\n",
    "    all_csv = [name for name in os.listdir(relative_path_to_grid_data) if name.endswith(\".csv\")]\n",
    "    cwd = os.getcwd()\n",
    "\n",
    "    df_list = []\n",
    "\n",
    "    for csv_name in all_csv:\n",
    "\n",
    "        path = os.path.join(cwd, relative_path_to_grid_data, csv_name)\n",
    "        df_list.append(pd.read_csv(path))\n",
    "\n",
    "    all_data = pd.concat(df_list, ignore_index=True).drop_duplicates()\n",
    "    \n",
    "    return all_data\n",
    "\n",
    "all_data = generate_csv_all_data()"
   ]
  },
  {
   "cell_type": "code",
   "execution_count": 13,
   "id": "3693e56e-e9c2-40ea-a4d4-b4b39d51255d",
   "metadata": {},
   "outputs": [
    {
     "data": {
      "text/plain": [
       "299.0208333333333"
      ]
     },
     "execution_count": 13,
     "metadata": {},
     "output_type": "execute_result"
    }
   ],
   "source": [
    "len(all_data)/(24*2)"
   ]
  },
  {
   "cell_type": "code",
   "execution_count": null,
   "id": "d77046d9-0921-402c-92fa-ac493ed4e317",
   "metadata": {},
   "outputs": [],
   "source": []
  }
 ],
 "metadata": {
  "kernelspec": {
   "display_name": "Python 3 (ipykernel)",
   "language": "python",
   "name": "python3"
  },
  "language_info": {
   "codemirror_mode": {
    "name": "ipython",
    "version": 3
   },
   "file_extension": ".py",
   "mimetype": "text/x-python",
   "name": "python",
   "nbconvert_exporter": "python",
   "pygments_lexer": "ipython3",
   "version": "3.11.0"
  }
 },
 "nbformat": 4,
 "nbformat_minor": 5
}
